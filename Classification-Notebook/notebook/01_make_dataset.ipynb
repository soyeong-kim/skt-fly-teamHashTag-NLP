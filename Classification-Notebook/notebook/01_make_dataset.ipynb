{
 "cells": [
  {
   "cell_type": "markdown",
   "metadata": {
    "id": "cKwXYENSZu1I"
   },
   "source": [
    "### 데이터 셋 만들기\n",
    "[주제별 텍스트 일상 대화 데이터](https://aihub.or.kr/aihubdata/data/view.do?currMenu=115&topMenu=100&aihubDataSe=realm&dataSetSn=543)\n",
    "\n",
    "- 주제 분포\n",
    "\n",
    "|주제|건수|사용여부|\n",
    "|:--:|:--:|:----:|\n",
    "|식음료|5,176|O|\n",
    "|주거와 생활|5,439|X|\n",
    "|교통|5,614|X|\n",
    "|회사/아르바이트|5,550|O|\n",
    "|군대|5,255|X|\n",
    "|교육|5,680|O|\n",
    "|가족|5,599|O|\n",
    "|연애/결혼|5,461|O|\n",
    "|반려동물|5,322|O|\n",
    "|스포츠/레저|5,731|O|\n",
    "|게임|5,467|X|\n",
    "|여행|5,550|O|\n",
    "|계절/날씨|5,438|X|\n",
    "|사회이슈|5,338|X|\n",
    "|타 국가 이슈|5,072|X|\n",
    "|미용|5,775|O|\n",
    "|건강|5,534|X|\n",
    "|상거래 전반|5,591|X|\n",
    "|방송/연예|5,425|X|\n",
    "|영화/만화|5,597|O|"
   ]
  },
  {
   "cell_type": "markdown",
   "metadata": {
    "id": "yhqhq0wUcrOJ"
   },
   "source": [
    "- train: `/TL` 로 시작하는 파일\n",
    "- valid: `/VL` 로 시작하는 파일"
   ]
  },
  {
   "cell_type": "code",
   "execution_count": null,
   "metadata": {
    "colab": {
     "base_uri": "https://localhost:8080/"
    },
    "executionInfo": {
     "elapsed": 5032,
     "status": "ok",
     "timestamp": 1676617785349,
     "user": {
      "displayName": "김소영",
      "userId": "03949757662449189055"
     },
     "user_tz": -540
    },
    "id": "NCK4YHuEZvLt",
    "outputId": "d171e9b0-debd-4012-a8bf-60b6caa86245"
   },
   "outputs": [
    {
     "name": "stdout",
     "output_type": "stream",
     "text": [
      "\u001b[?25l     \u001b[90m━━━━━━━━━━━━━━━━━━━━━━━━━━━━━━━━━━━━━━━━\u001b[0m \u001b[32m0.0/416.8 KB\u001b[0m \u001b[31m?\u001b[0m eta \u001b[36m-:--:--\u001b[0m\r",
      "\u001b[2K     \u001b[91m━━━━━━━━━━━━━━━━━━━━━\u001b[0m\u001b[90m╺\u001b[0m\u001b[90m━━━━━━━━━━━━━━━━━\u001b[0m \u001b[32m225.3/416.8 KB\u001b[0m \u001b[31m7.0 MB/s\u001b[0m eta \u001b[36m0:00:01\u001b[0m\r",
      "\u001b[2K     \u001b[90m━━━━━━━━━━━━━━━━━━━━━━━━━━━━━━━━━━━━━━━\u001b[0m \u001b[32m416.8/416.8 KB\u001b[0m \u001b[31m7.5 MB/s\u001b[0m eta \u001b[36m0:00:00\u001b[0m\n",
      "\u001b[?25h"
     ]
    }
   ],
   "source": [
    "# !pip install -q soynlp"
   ]
  },
  {
   "cell_type": "code",
   "execution_count": null,
   "metadata": {
    "id": "l5pmlO_qaxa6"
   },
   "outputs": [],
   "source": [
    "import os\n",
    "from glob import glob\n",
    "from zipfile import ZipFile\n",
    "\n",
    "import json\n",
    "from tqdm import tqdm\n",
    "\n",
    "import numpy as np\n",
    "import pandas as pd\n",
    "\n",
    "import re\n",
    "from soynlp.normalizer import repeat_normalize"
   ]
  },
  {
   "cell_type": "code",
   "execution_count": null,
   "metadata": {
    "colab": {
     "base_uri": "https://localhost:8080/"
    },
    "executionInfo": {
     "elapsed": 22,
     "status": "ok",
     "timestamp": 1676617787695,
     "user": {
      "displayName": "김소영",
      "userId": "03949757662449189055"
     },
     "user_tz": -540
    },
    "id": "P43tGIvscupI",
    "outputId": "75d60fab-efcf-401d-d90a-92c0916f0848"
   },
   "outputs": [
    {
     "name": "stdout",
     "output_type": "stream",
     "text": [
      "train zip: \n",
      " ['/content/TL_01. KAKAO(3).zip', '/content/TL_03. INSTAGRAM.zip', '/content/TL_01. KAKAO(1).zip', '/content/TL_04. BAND.zip', '/content/TL_01. KAKAO(4).zip', '/content/TL_05. NATEON.zip', '/content/TL_02. FACEBOOK.zip', '/content/TL_01. KAKAO(2).zip']\n",
      "validation zip: \n",
      " ['/content/VL_05. NATEON.zip', '/content/VL_02. FACEBOOK.zip', '/content/VL_04. BAND.zip', '/content/VL_01. KAKAO.zip', '/content/VL_03. INSTAGRAM.zip']\n"
     ]
    }
   ],
   "source": [
    "# train data zip\n",
    "train_fnames = glob('/content/TL*.zip')\n",
    "print('train zip: \\n', train_fnames)\n",
    "\n",
    "# validation data zip\n",
    "valid_fnames = glob('/content/VL*.zip')\n",
    "print('validation zip: \\n', valid_fnames)"
   ]
  },
  {
   "cell_type": "code",
   "execution_count": null,
   "metadata": {
    "id": "dvt9laAUU5UE"
   },
   "outputs": [],
   "source": [
    "def make_unzip(path: str, fnames):\n",
    "    # 폴더 생성\n",
    "    print(f'Create a {path} dataset folder')\n",
    "    if not os.path.isdir(path):\n",
    "        os.mkdir(path)\n",
    "    \n",
    "    # 압축 해제\n",
    "    for fname in fnames:\n",
    "        with ZipFile(fname, 'r') as zip:\n",
    "            zip.extractall(path)\n",
    "            print(f'File is unzipped in {path} folder')"
   ]
  },
  {
   "cell_type": "code",
   "execution_count": null,
   "metadata": {
    "colab": {
     "base_uri": "https://localhost:8080/"
    },
    "executionInfo": {
     "elapsed": 28398,
     "status": "ok",
     "timestamp": 1676617816075,
     "user": {
      "displayName": "김소영",
      "userId": "03949757662449189055"
     },
     "user_tz": -540
    },
    "id": "CRencFCncuvY",
    "outputId": "4357ab67-55ae-4ef4-80f3-1f309a0d042a"
   },
   "outputs": [
    {
     "name": "stdout",
     "output_type": "stream",
     "text": [
      "Create a train dataset folder\n",
      "File is unzipped in train folder\n",
      "File is unzipped in train folder\n",
      "File is unzipped in train folder\n",
      "File is unzipped in train folder\n",
      "File is unzipped in train folder\n",
      "File is unzipped in train folder\n",
      "File is unzipped in train folder\n",
      "File is unzipped in train folder\n"
     ]
    }
   ],
   "source": [
    "make_unzip('train', train_fnames)"
   ]
  },
  {
   "cell_type": "code",
   "execution_count": null,
   "metadata": {
    "colab": {
     "base_uri": "https://localhost:8080/"
    },
    "executionInfo": {
     "elapsed": 4049,
     "status": "ok",
     "timestamp": 1676617820092,
     "user": {
      "displayName": "김소영",
      "userId": "03949757662449189055"
     },
     "user_tz": -540
    },
    "id": "-oLbq2rNWx37",
    "outputId": "9f6a2ca4-2770-4207-ba42-ed84f73ef65a"
   },
   "outputs": [
    {
     "name": "stdout",
     "output_type": "stream",
     "text": [
      "Create a valid dataset folder\n",
      "File is unzipped in valid folder\n",
      "File is unzipped in valid folder\n",
      "File is unzipped in valid folder\n",
      "File is unzipped in valid folder\n",
      "File is unzipped in valid folder\n"
     ]
    }
   ],
   "source": [
    "make_unzip('valid', valid_fnames)"
   ]
  },
  {
   "cell_type": "code",
   "execution_count": null,
   "metadata": {
    "colab": {
     "base_uri": "https://localhost:8080/"
    },
    "executionInfo": {
     "elapsed": 450,
     "status": "ok",
     "timestamp": 1676617820506,
     "user": {
      "displayName": "김소영",
      "userId": "03949757662449189055"
     },
     "user_tz": -540
    },
    "id": "bLuTQGNhcuxg",
    "outputId": "0b1994da-b96d-4822-9d2e-e80c43605ebd"
   },
   "outputs": [
    {
     "name": "stdout",
     "output_type": "stream",
     "text": [
      "train json file sample: \n",
      " ['/content/train/INSTAGRAM_142_19.json', '/content/train/KAKAO_3423_20.json', '/content/train/KAKAO_3075_07.json']\n",
      "valid json file sample: \n",
      " ['/content/valid/FACEBOOK_96_17.json', '/content/valid/KAKAO_627_12.json', '/content/valid/KAKAO_779_20.json']\n"
     ]
    }
   ],
   "source": [
    "train_jsons = glob('/content/train/*.json')\n",
    "print('train json file sample: \\n', train_jsons[:3])\n",
    "\n",
    "valid_jsons = glob('/content/valid/*.json')\n",
    "print('valid json file sample: \\n', valid_jsons[:3])"
   ]
  },
  {
   "cell_type": "markdown",
   "metadata": {
    "id": "4IznxNEDyLpA"
   },
   "source": [
    "데이터셋 만들기"
   ]
  },
  {
   "cell_type": "code",
   "execution_count": null,
   "metadata": {
    "id": "_9lIMhy6gRC-"
   },
   "outputs": [],
   "source": [
    "def make_csv(fnames):\n",
    "    text = []\n",
    "    label = []\n",
    "    \n",
    "    for fname in tqdm(fnames):\n",
    "        f = open(fname, encoding=\"utf-8\")\n",
    "        try:\n",
    "            data = json.loads(f.read())\n",
    "            annotation = data['info'][0]['annotations']\n",
    "            text.append(annotation['text'])\n",
    "            label.append(annotation['subject'])\n",
    "        except:\n",
    "            print(f\"\\n**{fname}: 오류 파일**\\n\")\n",
    "    \n",
    "    df = pd.DataFrame({'text': text, 'label': label})\n",
    "    \n",
    "    return df"
   ]
  },
  {
   "cell_type": "code",
   "execution_count": null,
   "metadata": {
    "id": "eqCQMHNVZmDC"
   },
   "outputs": [],
   "source": [
    "pattern = re.compile(r'\\d+\\s:\\s')\n",
    "text_pattern = re.compile(r'[^ A-Za-z0-9가-힣+]')\n",
    "\n",
    "def cleaning(x):\n",
    "    x = re.sub(\"\\n\", \" \", x)\n",
    "    x = pattern.sub('', x)\n",
    "    x = text_pattern.sub('', x)\n",
    "    x = repeat_normalize(x, num_repeats=2)\n",
    "    \n",
    "    return x"
   ]
  },
  {
   "cell_type": "markdown",
   "metadata": {
    "id": "3VKMG5ckakXJ"
   },
   "source": [
    "train dataset\n",
    "- 오류 파일 존재: `/content/train/KAKAO_1648_13.json`"
   ]
  },
  {
   "cell_type": "code",
   "execution_count": null,
   "metadata": {
    "colab": {
     "base_uri": "https://localhost:8080/",
     "height": 279
    },
    "executionInfo": {
     "elapsed": 15662,
     "status": "ok",
     "timestamp": 1676617836156,
     "user": {
      "displayName": "김소영",
      "userId": "03949757662449189055"
     },
     "user_tz": -540
    },
    "id": "Eh1Q7L0JrkIr",
    "outputId": "1b05f00f-54c6-4a72-d227-b8c52be67923"
   },
   "outputs": [
    {
     "name": "stderr",
     "output_type": "stream",
     "text": [
      " 80%|████████  | 70464/87690 [00:11<00:04, 3889.74it/s]"
     ]
    },
    {
     "name": "stdout",
     "output_type": "stream",
     "text": [
      "\n",
      "**/content/train/KAKAO_1648_13.json: 오류 파일**\n",
      "\n"
     ]
    },
    {
     "name": "stderr",
     "output_type": "stream",
     "text": [
      "100%|██████████| 87690/87690 [00:15<00:00, 5635.34it/s]\n"
     ]
    },
    {
     "data": {
      "text/html": [
       "\n",
       "  <div id=\"df-b7937f26-5a70-42fd-9705-0dd9ea219dad\">\n",
       "    <div class=\"colab-df-container\">\n",
       "      <div>\n",
       "<style scoped>\n",
       "    .dataframe tbody tr th:only-of-type {\n",
       "        vertical-align: middle;\n",
       "    }\n",
       "\n",
       "    .dataframe tbody tr th {\n",
       "        vertical-align: top;\n",
       "    }\n",
       "\n",
       "    .dataframe thead th {\n",
       "        text-align: right;\n",
       "    }\n",
       "</style>\n",
       "<table border=\"1\" class=\"dataframe\">\n",
       "  <thead>\n",
       "    <tr style=\"text-align: right;\">\n",
       "      <th></th>\n",
       "      <th>text</th>\n",
       "      <th>label</th>\n",
       "    </tr>\n",
       "  </thead>\n",
       "  <tbody>\n",
       "    <tr>\n",
       "      <th>0</th>\n",
       "      <td>1 : 이영애 새 드라마 보신 분\\n2 : 이영애 새 드라마 나와?\\n3 : 난 방...</td>\n",
       "      <td>방송/연예</td>\n",
       "    </tr>\n",
       "    <tr>\n",
       "      <th>1</th>\n",
       "      <td>1 : 엄마 10월 그리고리 영화봤어요?\\n2 : 아니 그게 뭔지 몰라\\n1 : 죽...</td>\n",
       "      <td>영화/만화</td>\n",
       "    </tr>\n",
       "    <tr>\n",
       "      <th>2</th>\n",
       "      <td>1 : 내가 곰곰이 생각해 보니 우리 가족은 웃음이 없는 것 같아요\\n2 : 나도 ...</td>\n",
       "      <td>가족</td>\n",
       "    </tr>\n",
       "    <tr>\n",
       "      <th>3</th>\n",
       "      <td>1 : 너 인공눈물 좀 있냐?\\n2 : 아니 나도 얼마 없어\\n1 : 아 전에 병원...</td>\n",
       "      <td>건강</td>\n",
       "    </tr>\n",
       "    <tr>\n",
       "      <th>4</th>\n",
       "      <td>1 : 당근마켓이나 중고나라에서 거래해 본 적 있나? 키키\\n2 : 응응 해봤어 키...</td>\n",
       "      <td>상거래 전반</td>\n",
       "    </tr>\n",
       "  </tbody>\n",
       "</table>\n",
       "</div>\n",
       "      <button class=\"colab-df-convert\" onclick=\"convertToInteractive('df-b7937f26-5a70-42fd-9705-0dd9ea219dad')\"\n",
       "              title=\"Convert this dataframe to an interactive table.\"\n",
       "              style=\"display:none;\">\n",
       "        \n",
       "  <svg xmlns=\"http://www.w3.org/2000/svg\" height=\"24px\"viewBox=\"0 0 24 24\"\n",
       "       width=\"24px\">\n",
       "    <path d=\"M0 0h24v24H0V0z\" fill=\"none\"/>\n",
       "    <path d=\"M18.56 5.44l.94 2.06.94-2.06 2.06-.94-2.06-.94-.94-2.06-.94 2.06-2.06.94zm-11 1L8.5 8.5l.94-2.06 2.06-.94-2.06-.94L8.5 2.5l-.94 2.06-2.06.94zm10 10l.94 2.06.94-2.06 2.06-.94-2.06-.94-.94-2.06-.94 2.06-2.06.94z\"/><path d=\"M17.41 7.96l-1.37-1.37c-.4-.4-.92-.59-1.43-.59-.52 0-1.04.2-1.43.59L10.3 9.45l-7.72 7.72c-.78.78-.78 2.05 0 2.83L4 21.41c.39.39.9.59 1.41.59.51 0 1.02-.2 1.41-.59l7.78-7.78 2.81-2.81c.8-.78.8-2.07 0-2.86zM5.41 20L4 18.59l7.72-7.72 1.47 1.35L5.41 20z\"/>\n",
       "  </svg>\n",
       "      </button>\n",
       "      \n",
       "  <style>\n",
       "    .colab-df-container {\n",
       "      display:flex;\n",
       "      flex-wrap:wrap;\n",
       "      gap: 12px;\n",
       "    }\n",
       "\n",
       "    .colab-df-convert {\n",
       "      background-color: #E8F0FE;\n",
       "      border: none;\n",
       "      border-radius: 50%;\n",
       "      cursor: pointer;\n",
       "      display: none;\n",
       "      fill: #1967D2;\n",
       "      height: 32px;\n",
       "      padding: 0 0 0 0;\n",
       "      width: 32px;\n",
       "    }\n",
       "\n",
       "    .colab-df-convert:hover {\n",
       "      background-color: #E2EBFA;\n",
       "      box-shadow: 0px 1px 2px rgba(60, 64, 67, 0.3), 0px 1px 3px 1px rgba(60, 64, 67, 0.15);\n",
       "      fill: #174EA6;\n",
       "    }\n",
       "\n",
       "    [theme=dark] .colab-df-convert {\n",
       "      background-color: #3B4455;\n",
       "      fill: #D2E3FC;\n",
       "    }\n",
       "\n",
       "    [theme=dark] .colab-df-convert:hover {\n",
       "      background-color: #434B5C;\n",
       "      box-shadow: 0px 1px 3px 1px rgba(0, 0, 0, 0.15);\n",
       "      filter: drop-shadow(0px 1px 2px rgba(0, 0, 0, 0.3));\n",
       "      fill: #FFFFFF;\n",
       "    }\n",
       "  </style>\n",
       "\n",
       "      <script>\n",
       "        const buttonEl =\n",
       "          document.querySelector('#df-b7937f26-5a70-42fd-9705-0dd9ea219dad button.colab-df-convert');\n",
       "        buttonEl.style.display =\n",
       "          google.colab.kernel.accessAllowed ? 'block' : 'none';\n",
       "\n",
       "        async function convertToInteractive(key) {\n",
       "          const element = document.querySelector('#df-b7937f26-5a70-42fd-9705-0dd9ea219dad');\n",
       "          const dataTable =\n",
       "            await google.colab.kernel.invokeFunction('convertToInteractive',\n",
       "                                                     [key], {});\n",
       "          if (!dataTable) return;\n",
       "\n",
       "          const docLinkHtml = 'Like what you see? Visit the ' +\n",
       "            '<a target=\"_blank\" href=https://colab.research.google.com/notebooks/data_table.ipynb>data table notebook</a>'\n",
       "            + ' to learn more about interactive tables.';\n",
       "          element.innerHTML = '';\n",
       "          dataTable['output_type'] = 'display_data';\n",
       "          await google.colab.output.renderOutput(dataTable, element);\n",
       "          const docLink = document.createElement('div');\n",
       "          docLink.innerHTML = docLinkHtml;\n",
       "          element.appendChild(docLink);\n",
       "        }\n",
       "      </script>\n",
       "    </div>\n",
       "  </div>\n",
       "  "
      ],
      "text/plain": [
       "                                                text   label\n",
       "0  1 : 이영애 새 드라마 보신 분\\n2 : 이영애 새 드라마 나와?\\n3 : 난 방...   방송/연예\n",
       "1  1 : 엄마 10월 그리고리 영화봤어요?\\n2 : 아니 그게 뭔지 몰라\\n1 : 죽...   영화/만화\n",
       "2  1 : 내가 곰곰이 생각해 보니 우리 가족은 웃음이 없는 것 같아요\\n2 : 나도 ...      가족\n",
       "3  1 : 너 인공눈물 좀 있냐?\\n2 : 아니 나도 얼마 없어\\n1 : 아 전에 병원...      건강\n",
       "4  1 : 당근마켓이나 중고나라에서 거래해 본 적 있나? 키키\\n2 : 응응 해봤어 키...  상거래 전반"
      ]
     },
     "execution_count": 10,
     "metadata": {},
     "output_type": "execute_result"
    }
   ],
   "source": [
    "train_df = make_csv(train_jsons)\n",
    "train_df.head()"
   ]
  },
  {
   "cell_type": "code",
   "execution_count": null,
   "metadata": {
    "colab": {
     "base_uri": "https://localhost:8080/",
     "height": 206
    },
    "executionInfo": {
     "elapsed": 10015,
     "status": "ok",
     "timestamp": 1676617846159,
     "user": {
      "displayName": "김소영",
      "userId": "03949757662449189055"
     },
     "user_tz": -540
    },
    "id": "RXEJwcY3aP1A",
    "outputId": "8ee92b93-19c6-4ce6-b586-df97cb17f3ca"
   },
   "outputs": [
    {
     "data": {
      "text/html": [
       "\n",
       "  <div id=\"df-e4ebbf6a-40d4-4b4a-9c3f-6d7d5aba7970\">\n",
       "    <div class=\"colab-df-container\">\n",
       "      <div>\n",
       "<style scoped>\n",
       "    .dataframe tbody tr th:only-of-type {\n",
       "        vertical-align: middle;\n",
       "    }\n",
       "\n",
       "    .dataframe tbody tr th {\n",
       "        vertical-align: top;\n",
       "    }\n",
       "\n",
       "    .dataframe thead th {\n",
       "        text-align: right;\n",
       "    }\n",
       "</style>\n",
       "<table border=\"1\" class=\"dataframe\">\n",
       "  <thead>\n",
       "    <tr style=\"text-align: right;\">\n",
       "      <th></th>\n",
       "      <th>text</th>\n",
       "      <th>label</th>\n",
       "    </tr>\n",
       "  </thead>\n",
       "  <tbody>\n",
       "    <tr>\n",
       "      <th>0</th>\n",
       "      <td>이영애 새 드라마 보신 분 이영애 새 드라마 나와 난 방송은 못 믿겠더라 맛집 소개...</td>\n",
       "      <td>방송/연예</td>\n",
       "    </tr>\n",
       "    <tr>\n",
       "      <th>1</th>\n",
       "      <td>엄마 10월 그리고리 영화봤어요 아니 그게 뭔지 몰라 죽기 전에 봐야 할 영화 2번...</td>\n",
       "      <td>영화/만화</td>\n",
       "    </tr>\n",
       "    <tr>\n",
       "      <th>2</th>\n",
       "      <td>내가 곰곰이 생각해 보니 우리 가족은 웃음이 없는 것 같아요 나도 그렇게 생각했는데...</td>\n",
       "      <td>가족</td>\n",
       "    </tr>\n",
       "    <tr>\n",
       "      <th>3</th>\n",
       "      <td>너 인공눈물 좀 있냐 아니 나도 얼마 없어 아 전에 병원가서 좀 받아둘걸 얼마전에 ...</td>\n",
       "      <td>건강</td>\n",
       "    </tr>\n",
       "    <tr>\n",
       "      <th>4</th>\n",
       "      <td>당근마켓이나 중고나라에서 거래해 본 적 있나 키키 응응 해봤어 키키 최근에 당근마켓...</td>\n",
       "      <td>상거래 전반</td>\n",
       "    </tr>\n",
       "  </tbody>\n",
       "</table>\n",
       "</div>\n",
       "      <button class=\"colab-df-convert\" onclick=\"convertToInteractive('df-e4ebbf6a-40d4-4b4a-9c3f-6d7d5aba7970')\"\n",
       "              title=\"Convert this dataframe to an interactive table.\"\n",
       "              style=\"display:none;\">\n",
       "        \n",
       "  <svg xmlns=\"http://www.w3.org/2000/svg\" height=\"24px\"viewBox=\"0 0 24 24\"\n",
       "       width=\"24px\">\n",
       "    <path d=\"M0 0h24v24H0V0z\" fill=\"none\"/>\n",
       "    <path d=\"M18.56 5.44l.94 2.06.94-2.06 2.06-.94-2.06-.94-.94-2.06-.94 2.06-2.06.94zm-11 1L8.5 8.5l.94-2.06 2.06-.94-2.06-.94L8.5 2.5l-.94 2.06-2.06.94zm10 10l.94 2.06.94-2.06 2.06-.94-2.06-.94-.94-2.06-.94 2.06-2.06.94z\"/><path d=\"M17.41 7.96l-1.37-1.37c-.4-.4-.92-.59-1.43-.59-.52 0-1.04.2-1.43.59L10.3 9.45l-7.72 7.72c-.78.78-.78 2.05 0 2.83L4 21.41c.39.39.9.59 1.41.59.51 0 1.02-.2 1.41-.59l7.78-7.78 2.81-2.81c.8-.78.8-2.07 0-2.86zM5.41 20L4 18.59l7.72-7.72 1.47 1.35L5.41 20z\"/>\n",
       "  </svg>\n",
       "      </button>\n",
       "      \n",
       "  <style>\n",
       "    .colab-df-container {\n",
       "      display:flex;\n",
       "      flex-wrap:wrap;\n",
       "      gap: 12px;\n",
       "    }\n",
       "\n",
       "    .colab-df-convert {\n",
       "      background-color: #E8F0FE;\n",
       "      border: none;\n",
       "      border-radius: 50%;\n",
       "      cursor: pointer;\n",
       "      display: none;\n",
       "      fill: #1967D2;\n",
       "      height: 32px;\n",
       "      padding: 0 0 0 0;\n",
       "      width: 32px;\n",
       "    }\n",
       "\n",
       "    .colab-df-convert:hover {\n",
       "      background-color: #E2EBFA;\n",
       "      box-shadow: 0px 1px 2px rgba(60, 64, 67, 0.3), 0px 1px 3px 1px rgba(60, 64, 67, 0.15);\n",
       "      fill: #174EA6;\n",
       "    }\n",
       "\n",
       "    [theme=dark] .colab-df-convert {\n",
       "      background-color: #3B4455;\n",
       "      fill: #D2E3FC;\n",
       "    }\n",
       "\n",
       "    [theme=dark] .colab-df-convert:hover {\n",
       "      background-color: #434B5C;\n",
       "      box-shadow: 0px 1px 3px 1px rgba(0, 0, 0, 0.15);\n",
       "      filter: drop-shadow(0px 1px 2px rgba(0, 0, 0, 0.3));\n",
       "      fill: #FFFFFF;\n",
       "    }\n",
       "  </style>\n",
       "\n",
       "      <script>\n",
       "        const buttonEl =\n",
       "          document.querySelector('#df-e4ebbf6a-40d4-4b4a-9c3f-6d7d5aba7970 button.colab-df-convert');\n",
       "        buttonEl.style.display =\n",
       "          google.colab.kernel.accessAllowed ? 'block' : 'none';\n",
       "\n",
       "        async function convertToInteractive(key) {\n",
       "          const element = document.querySelector('#df-e4ebbf6a-40d4-4b4a-9c3f-6d7d5aba7970');\n",
       "          const dataTable =\n",
       "            await google.colab.kernel.invokeFunction('convertToInteractive',\n",
       "                                                     [key], {});\n",
       "          if (!dataTable) return;\n",
       "\n",
       "          const docLinkHtml = 'Like what you see? Visit the ' +\n",
       "            '<a target=\"_blank\" href=https://colab.research.google.com/notebooks/data_table.ipynb>data table notebook</a>'\n",
       "            + ' to learn more about interactive tables.';\n",
       "          element.innerHTML = '';\n",
       "          dataTable['output_type'] = 'display_data';\n",
       "          await google.colab.output.renderOutput(dataTable, element);\n",
       "          const docLink = document.createElement('div');\n",
       "          docLink.innerHTML = docLinkHtml;\n",
       "          element.appendChild(docLink);\n",
       "        }\n",
       "      </script>\n",
       "    </div>\n",
       "  </div>\n",
       "  "
      ],
      "text/plain": [
       "                                                text   label\n",
       "0  이영애 새 드라마 보신 분 이영애 새 드라마 나와 난 방송은 못 믿겠더라 맛집 소개...   방송/연예\n",
       "1  엄마 10월 그리고리 영화봤어요 아니 그게 뭔지 몰라 죽기 전에 봐야 할 영화 2번...   영화/만화\n",
       "2  내가 곰곰이 생각해 보니 우리 가족은 웃음이 없는 것 같아요 나도 그렇게 생각했는데...      가족\n",
       "3  너 인공눈물 좀 있냐 아니 나도 얼마 없어 아 전에 병원가서 좀 받아둘걸 얼마전에 ...      건강\n",
       "4  당근마켓이나 중고나라에서 거래해 본 적 있나 키키 응응 해봤어 키키 최근에 당근마켓...  상거래 전반"
      ]
     },
     "execution_count": 11,
     "metadata": {},
     "output_type": "execute_result"
    }
   ],
   "source": [
    "train_df['text'] = train_df.apply(lambda x: cleaning(x['text']), axis=1)\n",
    "train_df.head()"
   ]
  },
  {
   "cell_type": "code",
   "execution_count": null,
   "metadata": {
    "id": "EtxwiUGmaXnC"
   },
   "outputs": [],
   "source": [
    "# 데이터 저장\n",
    "train_df.to_csv('/content/train.csv', index=False, encoding='utf-8')"
   ]
  },
  {
   "cell_type": "markdown",
   "metadata": {
    "id": "rYRlFr3IahBC"
   },
   "source": [
    "validation dataset"
   ]
  },
  {
   "cell_type": "code",
   "execution_count": null,
   "metadata": {
    "colab": {
     "base_uri": "https://localhost:8080/",
     "height": 224
    },
    "executionInfo": {
     "elapsed": 3298,
     "status": "ok",
     "timestamp": 1676617851802,
     "user": {
      "displayName": "김소영",
      "userId": "03949757662449189055"
     },
     "user_tz": -540
    },
    "id": "friSc5R6Y7vy",
    "outputId": "b200d149-f678-4d50-e084-f5dc621dcf37"
   },
   "outputs": [
    {
     "name": "stderr",
     "output_type": "stream",
     "text": [
      "100%|██████████| 10962/10962 [00:03<00:00, 3304.89it/s]\n"
     ]
    },
    {
     "data": {
      "text/html": [
       "\n",
       "  <div id=\"df-41301289-4f15-4d29-830b-ed776b7ca792\">\n",
       "    <div class=\"colab-df-container\">\n",
       "      <div>\n",
       "<style scoped>\n",
       "    .dataframe tbody tr th:only-of-type {\n",
       "        vertical-align: middle;\n",
       "    }\n",
       "\n",
       "    .dataframe tbody tr th {\n",
       "        vertical-align: top;\n",
       "    }\n",
       "\n",
       "    .dataframe thead th {\n",
       "        text-align: right;\n",
       "    }\n",
       "</style>\n",
       "<table border=\"1\" class=\"dataframe\">\n",
       "  <thead>\n",
       "    <tr style=\"text-align: right;\">\n",
       "      <th></th>\n",
       "      <th>text</th>\n",
       "      <th>label</th>\n",
       "    </tr>\n",
       "  </thead>\n",
       "  <tbody>\n",
       "    <tr>\n",
       "      <th>0</th>\n",
       "      <td>1 : 언니 지금 비타민 챙겨 먹고 있어?\\n2 : 웅 챙겨 먹어\\n2 : 나이가 ...</td>\n",
       "      <td>건강</td>\n",
       "    </tr>\n",
       "    <tr>\n",
       "      <th>1</th>\n",
       "      <td>1 : 여행사 껴서 여행 가는 거 생각보다 괜찮더라\\n2 : 맞아~ 나도 가끔 가는...</td>\n",
       "      <td>여행</td>\n",
       "    </tr>\n",
       "    <tr>\n",
       "      <th>2</th>\n",
       "      <td>1 : 재밌는 영화 추천 좀 해봐 키키\\n2 : 요새 영화 안 본지 오래됨,\\n1 ...</td>\n",
       "      <td>영화/만화</td>\n",
       "    </tr>\n",
       "    <tr>\n",
       "      <th>3</th>\n",
       "      <td>1 : 오빠~ 오늘 몇 시에 와?\\n2 : 하… 자기야 오빠 오늘 회식이래…\\n1 ...</td>\n",
       "      <td>회사/아르바이트</td>\n",
       "    </tr>\n",
       "    <tr>\n",
       "      <th>4</th>\n",
       "      <td>1 : 작은 아빠랑 작은 엄마 다들 주사 맞았어?\\n2 : 아 그거 백신 말하는 건...</td>\n",
       "      <td>가족</td>\n",
       "    </tr>\n",
       "  </tbody>\n",
       "</table>\n",
       "</div>\n",
       "      <button class=\"colab-df-convert\" onclick=\"convertToInteractive('df-41301289-4f15-4d29-830b-ed776b7ca792')\"\n",
       "              title=\"Convert this dataframe to an interactive table.\"\n",
       "              style=\"display:none;\">\n",
       "        \n",
       "  <svg xmlns=\"http://www.w3.org/2000/svg\" height=\"24px\"viewBox=\"0 0 24 24\"\n",
       "       width=\"24px\">\n",
       "    <path d=\"M0 0h24v24H0V0z\" fill=\"none\"/>\n",
       "    <path d=\"M18.56 5.44l.94 2.06.94-2.06 2.06-.94-2.06-.94-.94-2.06-.94 2.06-2.06.94zm-11 1L8.5 8.5l.94-2.06 2.06-.94-2.06-.94L8.5 2.5l-.94 2.06-2.06.94zm10 10l.94 2.06.94-2.06 2.06-.94-2.06-.94-.94-2.06-.94 2.06-2.06.94z\"/><path d=\"M17.41 7.96l-1.37-1.37c-.4-.4-.92-.59-1.43-.59-.52 0-1.04.2-1.43.59L10.3 9.45l-7.72 7.72c-.78.78-.78 2.05 0 2.83L4 21.41c.39.39.9.59 1.41.59.51 0 1.02-.2 1.41-.59l7.78-7.78 2.81-2.81c.8-.78.8-2.07 0-2.86zM5.41 20L4 18.59l7.72-7.72 1.47 1.35L5.41 20z\"/>\n",
       "  </svg>\n",
       "      </button>\n",
       "      \n",
       "  <style>\n",
       "    .colab-df-container {\n",
       "      display:flex;\n",
       "      flex-wrap:wrap;\n",
       "      gap: 12px;\n",
       "    }\n",
       "\n",
       "    .colab-df-convert {\n",
       "      background-color: #E8F0FE;\n",
       "      border: none;\n",
       "      border-radius: 50%;\n",
       "      cursor: pointer;\n",
       "      display: none;\n",
       "      fill: #1967D2;\n",
       "      height: 32px;\n",
       "      padding: 0 0 0 0;\n",
       "      width: 32px;\n",
       "    }\n",
       "\n",
       "    .colab-df-convert:hover {\n",
       "      background-color: #E2EBFA;\n",
       "      box-shadow: 0px 1px 2px rgba(60, 64, 67, 0.3), 0px 1px 3px 1px rgba(60, 64, 67, 0.15);\n",
       "      fill: #174EA6;\n",
       "    }\n",
       "\n",
       "    [theme=dark] .colab-df-convert {\n",
       "      background-color: #3B4455;\n",
       "      fill: #D2E3FC;\n",
       "    }\n",
       "\n",
       "    [theme=dark] .colab-df-convert:hover {\n",
       "      background-color: #434B5C;\n",
       "      box-shadow: 0px 1px 3px 1px rgba(0, 0, 0, 0.15);\n",
       "      filter: drop-shadow(0px 1px 2px rgba(0, 0, 0, 0.3));\n",
       "      fill: #FFFFFF;\n",
       "    }\n",
       "  </style>\n",
       "\n",
       "      <script>\n",
       "        const buttonEl =\n",
       "          document.querySelector('#df-41301289-4f15-4d29-830b-ed776b7ca792 button.colab-df-convert');\n",
       "        buttonEl.style.display =\n",
       "          google.colab.kernel.accessAllowed ? 'block' : 'none';\n",
       "\n",
       "        async function convertToInteractive(key) {\n",
       "          const element = document.querySelector('#df-41301289-4f15-4d29-830b-ed776b7ca792');\n",
       "          const dataTable =\n",
       "            await google.colab.kernel.invokeFunction('convertToInteractive',\n",
       "                                                     [key], {});\n",
       "          if (!dataTable) return;\n",
       "\n",
       "          const docLinkHtml = 'Like what you see? Visit the ' +\n",
       "            '<a target=\"_blank\" href=https://colab.research.google.com/notebooks/data_table.ipynb>data table notebook</a>'\n",
       "            + ' to learn more about interactive tables.';\n",
       "          element.innerHTML = '';\n",
       "          dataTable['output_type'] = 'display_data';\n",
       "          await google.colab.output.renderOutput(dataTable, element);\n",
       "          const docLink = document.createElement('div');\n",
       "          docLink.innerHTML = docLinkHtml;\n",
       "          element.appendChild(docLink);\n",
       "        }\n",
       "      </script>\n",
       "    </div>\n",
       "  </div>\n",
       "  "
      ],
      "text/plain": [
       "                                                text     label\n",
       "0  1 : 언니 지금 비타민 챙겨 먹고 있어?\\n2 : 웅 챙겨 먹어\\n2 : 나이가 ...        건강\n",
       "1  1 : 여행사 껴서 여행 가는 거 생각보다 괜찮더라\\n2 : 맞아~ 나도 가끔 가는...        여행\n",
       "2  1 : 재밌는 영화 추천 좀 해봐 키키\\n2 : 요새 영화 안 본지 오래됨,\\n1 ...     영화/만화\n",
       "3  1 : 오빠~ 오늘 몇 시에 와?\\n2 : 하… 자기야 오빠 오늘 회식이래…\\n1 ...  회사/아르바이트\n",
       "4  1 : 작은 아빠랑 작은 엄마 다들 주사 맞았어?\\n2 : 아 그거 백신 말하는 건...        가족"
      ]
     },
     "execution_count": 13,
     "metadata": {},
     "output_type": "execute_result"
    }
   ],
   "source": [
    "valid_df = make_csv(valid_jsons)\n",
    "valid_df.head()"
   ]
  },
  {
   "cell_type": "code",
   "execution_count": null,
   "metadata": {
    "colab": {
     "base_uri": "https://localhost:8080/",
     "height": 206
    },
    "executionInfo": {
     "elapsed": 1956,
     "status": "ok",
     "timestamp": 1676617853744,
     "user": {
      "displayName": "김소영",
      "userId": "03949757662449189055"
     },
     "user_tz": -540
    },
    "id": "ZBQx_0f7aaN5",
    "outputId": "31ec87a5-83ca-4388-e56b-86554314bc8e"
   },
   "outputs": [
    {
     "data": {
      "text/html": [
       "\n",
       "  <div id=\"df-79c12048-98ac-4fea-9d48-862c78f6603e\">\n",
       "    <div class=\"colab-df-container\">\n",
       "      <div>\n",
       "<style scoped>\n",
       "    .dataframe tbody tr th:only-of-type {\n",
       "        vertical-align: middle;\n",
       "    }\n",
       "\n",
       "    .dataframe tbody tr th {\n",
       "        vertical-align: top;\n",
       "    }\n",
       "\n",
       "    .dataframe thead th {\n",
       "        text-align: right;\n",
       "    }\n",
       "</style>\n",
       "<table border=\"1\" class=\"dataframe\">\n",
       "  <thead>\n",
       "    <tr style=\"text-align: right;\">\n",
       "      <th></th>\n",
       "      <th>text</th>\n",
       "      <th>label</th>\n",
       "    </tr>\n",
       "  </thead>\n",
       "  <tbody>\n",
       "    <tr>\n",
       "      <th>0</th>\n",
       "      <td>언니 지금 비타민 챙겨 먹고 있어 웅 챙겨 먹어 나이가 있어서 맞아 20대 때부터 ...</td>\n",
       "      <td>건강</td>\n",
       "    </tr>\n",
       "    <tr>\n",
       "      <th>1</th>\n",
       "      <td>여행사 껴서 여행 가는 거 생각보다 괜찮더라 맞아 나도 가끔 가는데 일정 생각 안하...</td>\n",
       "      <td>여행</td>\n",
       "    </tr>\n",
       "    <tr>\n",
       "      <th>2</th>\n",
       "      <td>재밌는 영화 추천 좀 해봐 키키 요새 영화 안 본지 오래됨 나두 그래 너무 재밌는 ...</td>\n",
       "      <td>영화/만화</td>\n",
       "    </tr>\n",
       "    <tr>\n",
       "      <th>3</th>\n",
       "      <td>오빠 오늘 몇 시에 와 하 자기야 오빠 오늘 회식이래 갑자기 오늘 바로 회식 한대 ...</td>\n",
       "      <td>회사/아르바이트</td>\n",
       "    </tr>\n",
       "    <tr>\n",
       "      <th>4</th>\n",
       "      <td>작은 아빠랑 작은 엄마 다들 주사 맞았어 아 그거 백신 말하는 건가 응 다들 1차는...</td>\n",
       "      <td>가족</td>\n",
       "    </tr>\n",
       "  </tbody>\n",
       "</table>\n",
       "</div>\n",
       "      <button class=\"colab-df-convert\" onclick=\"convertToInteractive('df-79c12048-98ac-4fea-9d48-862c78f6603e')\"\n",
       "              title=\"Convert this dataframe to an interactive table.\"\n",
       "              style=\"display:none;\">\n",
       "        \n",
       "  <svg xmlns=\"http://www.w3.org/2000/svg\" height=\"24px\"viewBox=\"0 0 24 24\"\n",
       "       width=\"24px\">\n",
       "    <path d=\"M0 0h24v24H0V0z\" fill=\"none\"/>\n",
       "    <path d=\"M18.56 5.44l.94 2.06.94-2.06 2.06-.94-2.06-.94-.94-2.06-.94 2.06-2.06.94zm-11 1L8.5 8.5l.94-2.06 2.06-.94-2.06-.94L8.5 2.5l-.94 2.06-2.06.94zm10 10l.94 2.06.94-2.06 2.06-.94-2.06-.94-.94-2.06-.94 2.06-2.06.94z\"/><path d=\"M17.41 7.96l-1.37-1.37c-.4-.4-.92-.59-1.43-.59-.52 0-1.04.2-1.43.59L10.3 9.45l-7.72 7.72c-.78.78-.78 2.05 0 2.83L4 21.41c.39.39.9.59 1.41.59.51 0 1.02-.2 1.41-.59l7.78-7.78 2.81-2.81c.8-.78.8-2.07 0-2.86zM5.41 20L4 18.59l7.72-7.72 1.47 1.35L5.41 20z\"/>\n",
       "  </svg>\n",
       "      </button>\n",
       "      \n",
       "  <style>\n",
       "    .colab-df-container {\n",
       "      display:flex;\n",
       "      flex-wrap:wrap;\n",
       "      gap: 12px;\n",
       "    }\n",
       "\n",
       "    .colab-df-convert {\n",
       "      background-color: #E8F0FE;\n",
       "      border: none;\n",
       "      border-radius: 50%;\n",
       "      cursor: pointer;\n",
       "      display: none;\n",
       "      fill: #1967D2;\n",
       "      height: 32px;\n",
       "      padding: 0 0 0 0;\n",
       "      width: 32px;\n",
       "    }\n",
       "\n",
       "    .colab-df-convert:hover {\n",
       "      background-color: #E2EBFA;\n",
       "      box-shadow: 0px 1px 2px rgba(60, 64, 67, 0.3), 0px 1px 3px 1px rgba(60, 64, 67, 0.15);\n",
       "      fill: #174EA6;\n",
       "    }\n",
       "\n",
       "    [theme=dark] .colab-df-convert {\n",
       "      background-color: #3B4455;\n",
       "      fill: #D2E3FC;\n",
       "    }\n",
       "\n",
       "    [theme=dark] .colab-df-convert:hover {\n",
       "      background-color: #434B5C;\n",
       "      box-shadow: 0px 1px 3px 1px rgba(0, 0, 0, 0.15);\n",
       "      filter: drop-shadow(0px 1px 2px rgba(0, 0, 0, 0.3));\n",
       "      fill: #FFFFFF;\n",
       "    }\n",
       "  </style>\n",
       "\n",
       "      <script>\n",
       "        const buttonEl =\n",
       "          document.querySelector('#df-79c12048-98ac-4fea-9d48-862c78f6603e button.colab-df-convert');\n",
       "        buttonEl.style.display =\n",
       "          google.colab.kernel.accessAllowed ? 'block' : 'none';\n",
       "\n",
       "        async function convertToInteractive(key) {\n",
       "          const element = document.querySelector('#df-79c12048-98ac-4fea-9d48-862c78f6603e');\n",
       "          const dataTable =\n",
       "            await google.colab.kernel.invokeFunction('convertToInteractive',\n",
       "                                                     [key], {});\n",
       "          if (!dataTable) return;\n",
       "\n",
       "          const docLinkHtml = 'Like what you see? Visit the ' +\n",
       "            '<a target=\"_blank\" href=https://colab.research.google.com/notebooks/data_table.ipynb>data table notebook</a>'\n",
       "            + ' to learn more about interactive tables.';\n",
       "          element.innerHTML = '';\n",
       "          dataTable['output_type'] = 'display_data';\n",
       "          await google.colab.output.renderOutput(dataTable, element);\n",
       "          const docLink = document.createElement('div');\n",
       "          docLink.innerHTML = docLinkHtml;\n",
       "          element.appendChild(docLink);\n",
       "        }\n",
       "      </script>\n",
       "    </div>\n",
       "  </div>\n",
       "  "
      ],
      "text/plain": [
       "                                                text     label\n",
       "0  언니 지금 비타민 챙겨 먹고 있어 웅 챙겨 먹어 나이가 있어서 맞아 20대 때부터 ...        건강\n",
       "1  여행사 껴서 여행 가는 거 생각보다 괜찮더라 맞아 나도 가끔 가는데 일정 생각 안하...        여행\n",
       "2  재밌는 영화 추천 좀 해봐 키키 요새 영화 안 본지 오래됨 나두 그래 너무 재밌는 ...     영화/만화\n",
       "3  오빠 오늘 몇 시에 와 하 자기야 오빠 오늘 회식이래 갑자기 오늘 바로 회식 한대 ...  회사/아르바이트\n",
       "4  작은 아빠랑 작은 엄마 다들 주사 맞았어 아 그거 백신 말하는 건가 응 다들 1차는...        가족"
      ]
     },
     "execution_count": 14,
     "metadata": {},
     "output_type": "execute_result"
    }
   ],
   "source": [
    "valid_df['text'] = valid_df.apply(lambda x: cleaning(x['text']), axis=1)\n",
    "valid_df.head()"
   ]
  },
  {
   "cell_type": "code",
   "execution_count": null,
   "metadata": {
    "id": "0j4p5jLyZXsx"
   },
   "outputs": [],
   "source": [
    "# 데이터 저장\n",
    "valid_df.to_csv('/content/valid.csv', index=False, encoding='utf-8')"
   ]
  }
 ],
 "metadata": {
  "colab": {
   "authorship_tag": "ABX9TyN0Izza3MqNP/BFK45M21az",
   "mount_file_id": "1prxFAPaVwMZwpyND7bFAS_274vXq3F7C",
   "provenance": []
  },
  "kernelspec": {
   "display_name": "Python 3 (ipykernel)",
   "language": "python",
   "name": "python3"
  },
  "language_info": {
   "codemirror_mode": {
    "name": "ipython",
    "version": 3
   },
   "file_extension": ".py",
   "mimetype": "text/x-python",
   "name": "python",
   "nbconvert_exporter": "python",
   "pygments_lexer": "ipython3",
   "version": "3.9.13"
  }
 },
 "nbformat": 4,
 "nbformat_minor": 1
}
